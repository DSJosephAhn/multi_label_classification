{
 "cells": [
  {
   "cell_type": "markdown",
   "id": "e60d1728",
   "metadata": {},
   "source": [
    "# Human Acitivites Recognition Datasets(HAR Datasets)\n",
    "## Multi-label classification problem"
   ]
  },
  {
   "cell_type": "markdown",
   "id": "6d39baa2",
   "metadata": {},
   "source": [
    "This project is to build a model that predicts the human activities such as Walking, Walking_Upstairs, Walking_Downstairs, Sitting, Standing or Laying.\n",
    "\n",
    "This dataset is collected from 30 persons(referred as subjects in this dataset), performing different activities with a smartphone to their waists. The data is recorded with the help of sensors (accelerometer and Gyroscope) in that smartphone. This experiment was video recorded to label the data manually.\n",
    "\n",
    "### Y_labels\n",
    "\n",
    "In the dataset, Y_labels are represented as numbers from 1 to 6 as their identifiers.\n",
    "\n",
    "WALKING as 1\n",
    "WALKING_UPSTAIRS as 2\n",
    "WALKING_DOWNSTAIRS as 3\n",
    "SITTING as 4\n",
    "STANDING as 5\n",
    "LAYING as 6\n",
    "\n",
    "### Quick overview of the dataset :\n",
    "Accelerometer and Gyroscope readings are taken from 30 volunteers(referred as subjects) while performing the following 6 Activities.\n",
    "\n",
    "Walking\n",
    "WalkingUpstairs\n",
    "WalkingDownstairs\n",
    "Standing\n",
    "Sitting\n",
    "Lying.\n",
    "Readings are divided into a window of 2.56 seconds with 50% overlapping.\n",
    "\n",
    "Accelerometer readings are divided into gravity acceleration and body acceleration readings, which has x,y and z components each.\n",
    "\n",
    "Gyroscope readings are the measure of angular velocities which has x,y and z components.\n",
    "\n",
    "Jerk signals are calculated for BodyAcceleration readings.\n",
    "\n",
    "Fourier Transforms are made on the above time readings to obtain frequency readings.\n",
    "\n",
    "Now, on all the base signal readings., mean, max, mad, sma, arcoefficient, engerybands,entropy etc., are calculated for each window.\n",
    "\n",
    "We get a feature vector of 561 features and these features are given in the dataset.\n",
    "\n",
    "Each window of readings is a datapoint of 561 features."
   ]
  },
  {
   "cell_type": "code",
   "execution_count": 2,
   "id": "a8054fc6",
   "metadata": {
    "collapsed": true
   },
   "outputs": [
    {
     "name": "stdout",
     "output_type": "stream",
     "text": [
      "Requirement already satisfied: pandas in c:\\users\\vaiv\\documents\\git\\convae_lstm\\.convae_lstm\\lib\\site-packages (1.5.0)\n",
      "Requirement already satisfied: numpy in c:\\users\\vaiv\\documents\\git\\convae_lstm\\.convae_lstm\\lib\\site-packages (1.23.3)\n",
      "Requirement already satisfied: matplotlib in c:\\users\\vaiv\\documents\\git\\convae_lstm\\.convae_lstm\\lib\\site-packages (3.6.0)\n",
      "Requirement already satisfied: seaborn in c:\\users\\vaiv\\documents\\git\\convae_lstm\\.convae_lstm\\lib\\site-packages (0.12.0)\n",
      "Requirement already satisfied: scikit-learn in c:\\users\\vaiv\\documents\\git\\convae_lstm\\.convae_lstm\\lib\\site-packages (1.1.2)\n",
      "Requirement already satisfied: tensorflow in c:\\users\\vaiv\\documents\\git\\convae_lstm\\.convae_lstm\\lib\\site-packages (2.10.0)\n",
      "Requirement already satisfied: keras in c:\\users\\vaiv\\documents\\git\\convae_lstm\\.convae_lstm\\lib\\site-packages (2.10.0)\n",
      "Requirement already satisfied: hyperopt in c:\\users\\vaiv\\documents\\git\\convae_lstm\\.convae_lstm\\lib\\site-packages (0.2.7)\n",
      "Requirement already satisfied: hyperas in c:\\users\\vaiv\\documents\\git\\convae_lstm\\.convae_lstm\\lib\\site-packages (0.4.1)\n",
      "Requirement already satisfied: ipykernel in c:\\users\\vaiv\\documents\\git\\convae_lstm\\.convae_lstm\\lib\\site-packages (6.16.0)\n",
      "Requirement already satisfied: pytz>=2020.1 in c:\\users\\vaiv\\documents\\git\\convae_lstm\\.convae_lstm\\lib\\site-packages (from pandas) (2022.4)\n",
      "Requirement already satisfied: python-dateutil>=2.8.1 in c:\\users\\vaiv\\documents\\git\\convae_lstm\\.convae_lstm\\lib\\site-packages (from pandas) (2.8.2)\n",
      "Requirement already satisfied: kiwisolver>=1.0.1 in c:\\users\\vaiv\\documents\\git\\convae_lstm\\.convae_lstm\\lib\\site-packages (from matplotlib) (1.4.4)\n",
      "Requirement already satisfied: contourpy>=1.0.1 in c:\\users\\vaiv\\documents\\git\\convae_lstm\\.convae_lstm\\lib\\site-packages (from matplotlib) (1.0.5)\n",
      "Requirement already satisfied: pyparsing>=2.2.1 in c:\\users\\vaiv\\documents\\git\\convae_lstm\\.convae_lstm\\lib\\site-packages (from matplotlib) (3.0.9)\n",
      "Requirement already satisfied: cycler>=0.10 in c:\\users\\vaiv\\documents\\git\\convae_lstm\\.convae_lstm\\lib\\site-packages (from matplotlib) (0.11.0)\n",
      "Requirement already satisfied: pillow>=6.2.0 in c:\\users\\vaiv\\documents\\git\\convae_lstm\\.convae_lstm\\lib\\site-packages (from matplotlib) (9.2.0)\n",
      "Requirement already satisfied: fonttools>=4.22.0 in c:\\users\\vaiv\\documents\\git\\convae_lstm\\.convae_lstm\\lib\\site-packages (from matplotlib) (4.37.4)\n",
      "Requirement already satisfied: packaging>=20.0 in c:\\users\\vaiv\\documents\\git\\convae_lstm\\.convae_lstm\\lib\\site-packages (from matplotlib) (21.3)\n",
      "Requirement already satisfied: threadpoolctl>=2.0.0 in c:\\users\\vaiv\\documents\\git\\convae_lstm\\.convae_lstm\\lib\\site-packages (from scikit-learn) (3.1.0)\n",
      "Requirement already satisfied: joblib>=1.0.0 in c:\\users\\vaiv\\documents\\git\\convae_lstm\\.convae_lstm\\lib\\site-packages (from scikit-learn) (1.2.0)\n",
      "Requirement already satisfied: scipy>=1.3.2 in c:\\users\\vaiv\\documents\\git\\convae_lstm\\.convae_lstm\\lib\\site-packages (from scikit-learn) (1.9.1)\n",
      "Requirement already satisfied: keras-preprocessing>=1.1.1 in c:\\users\\vaiv\\documents\\git\\convae_lstm\\.convae_lstm\\lib\\site-packages (from tensorflow) (1.1.2)\n",
      "Requirement already satisfied: h5py>=2.9.0 in c:\\users\\vaiv\\documents\\git\\convae_lstm\\.convae_lstm\\lib\\site-packages (from tensorflow) (3.7.0)\n",
      "Requirement already satisfied: wrapt>=1.11.0 in c:\\users\\vaiv\\documents\\git\\convae_lstm\\.convae_lstm\\lib\\site-packages (from tensorflow) (1.14.1)\n",
      "Requirement already satisfied: grpcio<2.0,>=1.24.3 in c:\\users\\vaiv\\documents\\git\\convae_lstm\\.convae_lstm\\lib\\site-packages (from tensorflow) (1.49.1)\n",
      "Requirement already satisfied: astunparse>=1.6.0 in c:\\users\\vaiv\\documents\\git\\convae_lstm\\.convae_lstm\\lib\\site-packages (from tensorflow) (1.6.3)\n",
      "Requirement already satisfied: protobuf<3.20,>=3.9.2 in c:\\users\\vaiv\\documents\\git\\convae_lstm\\.convae_lstm\\lib\\site-packages (from tensorflow) (3.19.6)\n",
      "Requirement already satisfied: opt-einsum>=2.3.2 in c:\\users\\vaiv\\documents\\git\\convae_lstm\\.convae_lstm\\lib\\site-packages (from tensorflow) (3.3.0)\n",
      "Requirement already satisfied: six>=1.12.0 in c:\\users\\vaiv\\documents\\git\\convae_lstm\\.convae_lstm\\lib\\site-packages (from tensorflow) (1.16.0)\n",
      "Requirement already satisfied: tensorflow-estimator<2.11,>=2.10.0 in c:\\users\\vaiv\\documents\\git\\convae_lstm\\.convae_lstm\\lib\\site-packages (from tensorflow) (2.10.0)\n",
      "Requirement already satisfied: google-pasta>=0.1.1 in c:\\users\\vaiv\\documents\\git\\convae_lstm\\.convae_lstm\\lib\\site-packages (from tensorflow) (0.2.0)\n",
      "Requirement already satisfied: tensorboard<2.11,>=2.10 in c:\\users\\vaiv\\documents\\git\\convae_lstm\\.convae_lstm\\lib\\site-packages (from tensorflow) (2.10.1)\n",
      "Requirement already satisfied: typing-extensions>=3.6.6 in c:\\users\\vaiv\\documents\\git\\convae_lstm\\.convae_lstm\\lib\\site-packages (from tensorflow) (4.4.0)\n",
      "Requirement already satisfied: gast<=0.4.0,>=0.2.1 in c:\\users\\vaiv\\documents\\git\\convae_lstm\\.convae_lstm\\lib\\site-packages (from tensorflow) (0.4.0)\n",
      "Requirement already satisfied: flatbuffers>=2.0 in c:\\users\\vaiv\\documents\\git\\convae_lstm\\.convae_lstm\\lib\\site-packages (from tensorflow) (22.9.24)\n",
      "Requirement already satisfied: setuptools in c:\\users\\vaiv\\documents\\git\\convae_lstm\\.convae_lstm\\lib\\site-packages (from tensorflow) (58.1.0)\n",
      "Requirement already satisfied: termcolor>=1.1.0 in c:\\users\\vaiv\\documents\\git\\convae_lstm\\.convae_lstm\\lib\\site-packages (from tensorflow) (2.0.1)\n",
      "Requirement already satisfied: absl-py>=1.0.0 in c:\\users\\vaiv\\documents\\git\\convae_lstm\\.convae_lstm\\lib\\site-packages (from tensorflow) (1.2.0)\n",
      "Requirement already satisfied: tensorflow-io-gcs-filesystem>=0.23.1 in c:\\users\\vaiv\\documents\\git\\convae_lstm\\.convae_lstm\\lib\\site-packages (from tensorflow) (0.27.0)\n",
      "Requirement already satisfied: libclang>=13.0.0 in c:\\users\\vaiv\\documents\\git\\convae_lstm\\.convae_lstm\\lib\\site-packages (from tensorflow) (14.0.6)\n",
      "Requirement already satisfied: future in c:\\users\\vaiv\\documents\\git\\convae_lstm\\.convae_lstm\\lib\\site-packages (from hyperopt) (0.18.2)\n",
      "Requirement already satisfied: networkx>=2.2 in c:\\users\\vaiv\\documents\\git\\convae_lstm\\.convae_lstm\\lib\\site-packages (from hyperopt) (2.8.7)\n",
      "Requirement already satisfied: py4j in c:\\users\\vaiv\\documents\\git\\convae_lstm\\.convae_lstm\\lib\\site-packages (from hyperopt) (0.10.9.7)\n",
      "Requirement already satisfied: cloudpickle in c:\\users\\vaiv\\documents\\git\\convae_lstm\\.convae_lstm\\lib\\site-packages (from hyperopt) (2.2.0)\n",
      "Requirement already satisfied: tqdm in c:\\users\\vaiv\\documents\\git\\convae_lstm\\.convae_lstm\\lib\\site-packages (from hyperopt) (4.64.1)\n",
      "Requirement already satisfied: nbformat in c:\\users\\vaiv\\documents\\git\\convae_lstm\\.convae_lstm\\lib\\site-packages (from hyperas) (5.7.0)\n",
      "Requirement already satisfied: jupyter in c:\\users\\vaiv\\documents\\git\\convae_lstm\\.convae_lstm\\lib\\site-packages (from hyperas) (1.0.0)\n",
      "Requirement already satisfied: nbconvert in c:\\users\\vaiv\\documents\\git\\convae_lstm\\.convae_lstm\\lib\\site-packages (from hyperas) (7.2.1)\n",
      "Requirement already satisfied: entrypoints in c:\\users\\vaiv\\documents\\git\\convae_lstm\\.convae_lstm\\lib\\site-packages (from hyperas) (0.4)\n",
      "Requirement already satisfied: nest-asyncio in c:\\users\\vaiv\\documents\\git\\convae_lstm\\.convae_lstm\\lib\\site-packages (from ipykernel) (1.5.6)\n",
      "Requirement already satisfied: tornado>=6.1 in c:\\users\\vaiv\\documents\\git\\convae_lstm\\.convae_lstm\\lib\\site-packages (from ipykernel) (6.2)\n",
      "Requirement already satisfied: traitlets>=5.1.0 in c:\\users\\vaiv\\documents\\git\\convae_lstm\\.convae_lstm\\lib\\site-packages (from ipykernel) (5.4.0)\n",
      "Requirement already satisfied: jupyter-client>=6.1.12 in c:\\users\\vaiv\\documents\\git\\convae_lstm\\.convae_lstm\\lib\\site-packages (from ipykernel) (7.3.5)\n",
      "Requirement already satisfied: ipython>=7.23.1 in c:\\users\\vaiv\\documents\\git\\convae_lstm\\.convae_lstm\\lib\\site-packages (from ipykernel) (8.5.0)\n",
      "Requirement already satisfied: psutil in c:\\users\\vaiv\\documents\\git\\convae_lstm\\.convae_lstm\\lib\\site-packages (from ipykernel) (5.9.2)\n",
      "Requirement already satisfied: pyzmq>=17 in c:\\users\\vaiv\\documents\\git\\convae_lstm\\.convae_lstm\\lib\\site-packages (from ipykernel) (24.0.1)\n",
      "Requirement already satisfied: debugpy>=1.0 in c:\\users\\vaiv\\documents\\git\\convae_lstm\\.convae_lstm\\lib\\site-packages (from ipykernel) (1.6.3)\n",
      "Requirement already satisfied: matplotlib-inline>=0.1 in c:\\users\\vaiv\\documents\\git\\convae_lstm\\.convae_lstm\\lib\\site-packages (from ipykernel) (0.1.6)\n",
      "Requirement already satisfied: wheel<1.0,>=0.23.0 in c:\\users\\vaiv\\documents\\git\\convae_lstm\\.convae_lstm\\lib\\site-packages (from astunparse>=1.6.0->tensorflow) (0.37.1)\n",
      "Requirement already satisfied: decorator in c:\\users\\vaiv\\documents\\git\\convae_lstm\\.convae_lstm\\lib\\site-packages (from ipython>=7.23.1->ipykernel) (5.1.1)\n",
      "Requirement already satisfied: backcall in c:\\users\\vaiv\\documents\\git\\convae_lstm\\.convae_lstm\\lib\\site-packages (from ipython>=7.23.1->ipykernel) (0.2.0)\n",
      "Requirement already satisfied: jedi>=0.16 in c:\\users\\vaiv\\documents\\git\\convae_lstm\\.convae_lstm\\lib\\site-packages (from ipython>=7.23.1->ipykernel) (0.18.1)\n",
      "Requirement already satisfied: colorama in c:\\users\\vaiv\\documents\\git\\convae_lstm\\.convae_lstm\\lib\\site-packages (from ipython>=7.23.1->ipykernel) (0.4.5)\n",
      "Requirement already satisfied: pickleshare in c:\\users\\vaiv\\documents\\git\\convae_lstm\\.convae_lstm\\lib\\site-packages (from ipython>=7.23.1->ipykernel) (0.7.5)\n",
      "Requirement already satisfied: pygments>=2.4.0 in c:\\users\\vaiv\\documents\\git\\convae_lstm\\.convae_lstm\\lib\\site-packages (from ipython>=7.23.1->ipykernel) (2.13.0)\n",
      "Requirement already satisfied: prompt-toolkit<3.1.0,>3.0.1 in c:\\users\\vaiv\\documents\\git\\convae_lstm\\.convae_lstm\\lib\\site-packages (from ipython>=7.23.1->ipykernel) (3.0.31)\n",
      "Requirement already satisfied: stack-data in c:\\users\\vaiv\\documents\\git\\convae_lstm\\.convae_lstm\\lib\\site-packages (from ipython>=7.23.1->ipykernel) (0.5.1)\n",
      "Requirement already satisfied: jupyter-core>=4.9.2 in c:\\users\\vaiv\\documents\\git\\convae_lstm\\.convae_lstm\\lib\\site-packages (from jupyter-client>=6.1.12->ipykernel) (4.11.1)\n",
      "Requirement already satisfied: werkzeug>=1.0.1 in c:\\users\\vaiv\\documents\\git\\convae_lstm\\.convae_lstm\\lib\\site-packages (from tensorboard<2.11,>=2.10->tensorflow) (2.2.2)\n",
      "Requirement already satisfied: markdown>=2.6.8 in c:\\users\\vaiv\\documents\\git\\convae_lstm\\.convae_lstm\\lib\\site-packages (from tensorboard<2.11,>=2.10->tensorflow) (3.4.1)\n",
      "Requirement already satisfied: tensorboard-data-server<0.7.0,>=0.6.0 in c:\\users\\vaiv\\documents\\git\\convae_lstm\\.convae_lstm\\lib\\site-packages (from tensorboard<2.11,>=2.10->tensorflow) (0.6.1)\n",
      "Requirement already satisfied: google-auth<3,>=1.6.3 in c:\\users\\vaiv\\documents\\git\\convae_lstm\\.convae_lstm\\lib\\site-packages (from tensorboard<2.11,>=2.10->tensorflow) (2.12.0)\n",
      "Requirement already satisfied: google-auth-oauthlib<0.5,>=0.4.1 in c:\\users\\vaiv\\documents\\git\\convae_lstm\\.convae_lstm\\lib\\site-packages (from tensorboard<2.11,>=2.10->tensorflow) (0.4.6)\n",
      "Requirement already satisfied: tensorboard-plugin-wit>=1.6.0 in c:\\users\\vaiv\\documents\\git\\convae_lstm\\.convae_lstm\\lib\\site-packages (from tensorboard<2.11,>=2.10->tensorflow) (1.8.1)\n",
      "Requirement already satisfied: requests<3,>=2.21.0 in c:\\users\\vaiv\\documents\\git\\convae_lstm\\.convae_lstm\\lib\\site-packages (from tensorboard<2.11,>=2.10->tensorflow) (2.28.1)\n",
      "Requirement already satisfied: notebook in c:\\users\\vaiv\\documents\\git\\convae_lstm\\.convae_lstm\\lib\\site-packages (from jupyter->hyperas) (6.4.12)\n",
      "Requirement already satisfied: ipywidgets in c:\\users\\vaiv\\documents\\git\\convae_lstm\\.convae_lstm\\lib\\site-packages (from jupyter->hyperas) (8.0.2)\n",
      "Requirement already satisfied: qtconsole in c:\\users\\vaiv\\documents\\git\\convae_lstm\\.convae_lstm\\lib\\site-packages (from jupyter->hyperas) (5.3.2)\n",
      "Requirement already satisfied: jupyter-console in c:\\users\\vaiv\\documents\\git\\convae_lstm\\.convae_lstm\\lib\\site-packages (from jupyter->hyperas) (6.4.4)\n",
      "Requirement already satisfied: pandocfilters>=1.4.1 in c:\\users\\vaiv\\documents\\git\\convae_lstm\\.convae_lstm\\lib\\site-packages (from nbconvert->hyperas) (1.5.0)\n",
      "Requirement already satisfied: beautifulsoup4 in c:\\users\\vaiv\\documents\\git\\convae_lstm\\.convae_lstm\\lib\\site-packages (from nbconvert->hyperas) (4.11.1)\n",
      "Requirement already satisfied: mistune<3,>=2.0.3 in c:\\users\\vaiv\\documents\\git\\convae_lstm\\.convae_lstm\\lib\\site-packages (from nbconvert->hyperas) (2.0.4)\n",
      "Requirement already satisfied: defusedxml in c:\\users\\vaiv\\documents\\git\\convae_lstm\\.convae_lstm\\lib\\site-packages (from nbconvert->hyperas) (0.7.1)\n",
      "Requirement already satisfied: importlib-metadata>=3.6 in c:\\users\\vaiv\\documents\\git\\convae_lstm\\.convae_lstm\\lib\\site-packages (from nbconvert->hyperas) (5.0.0)\n",
      "Requirement already satisfied: jinja2>=3.0 in c:\\users\\vaiv\\documents\\git\\convae_lstm\\.convae_lstm\\lib\\site-packages (from nbconvert->hyperas) (3.1.2)\n",
      "Requirement already satisfied: nbclient>=0.5.0 in c:\\users\\vaiv\\documents\\git\\convae_lstm\\.convae_lstm\\lib\\site-packages (from nbconvert->hyperas) (0.7.0)\n",
      "Requirement already satisfied: bleach in c:\\users\\vaiv\\documents\\git\\convae_lstm\\.convae_lstm\\lib\\site-packages (from nbconvert->hyperas) (5.0.1)\n",
      "Requirement already satisfied: jupyterlab-pygments in c:\\users\\vaiv\\documents\\git\\convae_lstm\\.convae_lstm\\lib\\site-packages (from nbconvert->hyperas) (0.2.2)\n",
      "Requirement already satisfied: markupsafe>=2.0 in c:\\users\\vaiv\\documents\\git\\convae_lstm\\.convae_lstm\\lib\\site-packages (from nbconvert->hyperas) (2.1.1)\n",
      "Requirement already satisfied: tinycss2 in c:\\users\\vaiv\\documents\\git\\convae_lstm\\.convae_lstm\\lib\\site-packages (from nbconvert->hyperas) (1.1.1)\n",
      "Requirement already satisfied: jsonschema>=2.6 in c:\\users\\vaiv\\documents\\git\\convae_lstm\\.convae_lstm\\lib\\site-packages (from nbformat->hyperas) (4.16.0)\n",
      "Requirement already satisfied: fastjsonschema in c:\\users\\vaiv\\documents\\git\\convae_lstm\\.convae_lstm\\lib\\site-packages (from nbformat->hyperas) (2.16.2)\n",
      "Requirement already satisfied: cachetools<6.0,>=2.0.0 in c:\\users\\vaiv\\documents\\git\\convae_lstm\\.convae_lstm\\lib\\site-packages (from google-auth<3,>=1.6.3->tensorboard<2.11,>=2.10->tensorflow) (5.2.0)\n",
      "Requirement already satisfied: pyasn1-modules>=0.2.1 in c:\\users\\vaiv\\documents\\git\\convae_lstm\\.convae_lstm\\lib\\site-packages (from google-auth<3,>=1.6.3->tensorboard<2.11,>=2.10->tensorflow) (0.2.8)\n",
      "Requirement already satisfied: rsa<5,>=3.1.4 in c:\\users\\vaiv\\documents\\git\\convae_lstm\\.convae_lstm\\lib\\site-packages (from google-auth<3,>=1.6.3->tensorboard<2.11,>=2.10->tensorflow) (4.9)\n",
      "Requirement already satisfied: requests-oauthlib>=0.7.0 in c:\\users\\vaiv\\documents\\git\\convae_lstm\\.convae_lstm\\lib\\site-packages (from google-auth-oauthlib<0.5,>=0.4.1->tensorboard<2.11,>=2.10->tensorflow) (1.3.1)\n",
      "Requirement already satisfied: zipp>=0.5 in c:\\users\\vaiv\\documents\\git\\convae_lstm\\.convae_lstm\\lib\\site-packages (from importlib-metadata>=3.6->nbconvert->hyperas) (3.8.1)\n",
      "Requirement already satisfied: parso<0.9.0,>=0.8.0 in c:\\users\\vaiv\\documents\\git\\convae_lstm\\.convae_lstm\\lib\\site-packages (from jedi>=0.16->ipython>=7.23.1->ipykernel) (0.8.3)\n",
      "Requirement already satisfied: attrs>=17.4.0 in c:\\users\\vaiv\\documents\\git\\convae_lstm\\.convae_lstm\\lib\\site-packages (from jsonschema>=2.6->nbformat->hyperas) (22.1.0)\n",
      "Requirement already satisfied: pyrsistent!=0.17.0,!=0.17.1,!=0.17.2,>=0.14.0 in c:\\users\\vaiv\\documents\\git\\convae_lstm\\.convae_lstm\\lib\\site-packages (from jsonschema>=2.6->nbformat->hyperas) (0.18.1)\n",
      "Requirement already satisfied: pywin32>=1.0 in c:\\users\\vaiv\\documents\\git\\convae_lstm\\.convae_lstm\\lib\\site-packages (from jupyter-core>=4.9.2->jupyter-client>=6.1.12->ipykernel) (304)\n",
      "Requirement already satisfied: wcwidth in c:\\users\\vaiv\\documents\\git\\convae_lstm\\.convae_lstm\\lib\\site-packages (from prompt-toolkit<3.1.0,>3.0.1->ipython>=7.23.1->ipykernel) (0.2.5)\n",
      "Requirement already satisfied: charset-normalizer<3,>=2 in c:\\users\\vaiv\\documents\\git\\convae_lstm\\.convae_lstm\\lib\\site-packages (from requests<3,>=2.21.0->tensorboard<2.11,>=2.10->tensorflow) (2.1.1)\n",
      "Requirement already satisfied: certifi>=2017.4.17 in c:\\users\\vaiv\\documents\\git\\convae_lstm\\.convae_lstm\\lib\\site-packages (from requests<3,>=2.21.0->tensorboard<2.11,>=2.10->tensorflow) (2022.9.24)\n",
      "Requirement already satisfied: idna<4,>=2.5 in c:\\users\\vaiv\\documents\\git\\convae_lstm\\.convae_lstm\\lib\\site-packages (from requests<3,>=2.21.0->tensorboard<2.11,>=2.10->tensorflow) (3.4)\n",
      "Requirement already satisfied: urllib3<1.27,>=1.21.1 in c:\\users\\vaiv\\documents\\git\\convae_lstm\\.convae_lstm\\lib\\site-packages (from requests<3,>=2.21.0->tensorboard<2.11,>=2.10->tensorflow) (1.26.12)\n",
      "Requirement already satisfied: soupsieve>1.2 in c:\\users\\vaiv\\documents\\git\\convae_lstm\\.convae_lstm\\lib\\site-packages (from beautifulsoup4->nbconvert->hyperas) (2.3.2.post1)\n",
      "Requirement already satisfied: webencodings in c:\\users\\vaiv\\documents\\git\\convae_lstm\\.convae_lstm\\lib\\site-packages (from bleach->nbconvert->hyperas) (0.5.1)\n",
      "Requirement already satisfied: widgetsnbextension~=4.0 in c:\\users\\vaiv\\documents\\git\\convae_lstm\\.convae_lstm\\lib\\site-packages (from ipywidgets->jupyter->hyperas) (4.0.3)\n",
      "Requirement already satisfied: jupyterlab-widgets~=3.0 in c:\\users\\vaiv\\documents\\git\\convae_lstm\\.convae_lstm\\lib\\site-packages (from ipywidgets->jupyter->hyperas) (3.0.3)\n",
      "Requirement already satisfied: ipython-genutils in c:\\users\\vaiv\\documents\\git\\convae_lstm\\.convae_lstm\\lib\\site-packages (from notebook->jupyter->hyperas) (0.2.0)\n",
      "Requirement already satisfied: prometheus-client in c:\\users\\vaiv\\documents\\git\\convae_lstm\\.convae_lstm\\lib\\site-packages (from notebook->jupyter->hyperas) (0.14.1)\n",
      "Requirement already satisfied: terminado>=0.8.3 in c:\\users\\vaiv\\documents\\git\\convae_lstm\\.convae_lstm\\lib\\site-packages (from notebook->jupyter->hyperas) (0.16.0)\n",
      "Requirement already satisfied: argon2-cffi in c:\\users\\vaiv\\documents\\git\\convae_lstm\\.convae_lstm\\lib\\site-packages (from notebook->jupyter->hyperas) (21.3.0)\n",
      "Requirement already satisfied: Send2Trash>=1.8.0 in c:\\users\\vaiv\\documents\\git\\convae_lstm\\.convae_lstm\\lib\\site-packages (from notebook->jupyter->hyperas) (1.8.0)\n",
      "Requirement already satisfied: qtpy>=2.0.1 in c:\\users\\vaiv\\documents\\git\\convae_lstm\\.convae_lstm\\lib\\site-packages (from qtconsole->jupyter->hyperas) (2.2.1)\n",
      "Requirement already satisfied: executing in c:\\users\\vaiv\\documents\\git\\convae_lstm\\.convae_lstm\\lib\\site-packages (from stack-data->ipython>=7.23.1->ipykernel) (1.1.1)\n",
      "Requirement already satisfied: asttokens in c:\\users\\vaiv\\documents\\git\\convae_lstm\\.convae_lstm\\lib\\site-packages (from stack-data->ipython>=7.23.1->ipykernel) (2.0.8)\n",
      "Requirement already satisfied: pure-eval in c:\\users\\vaiv\\documents\\git\\convae_lstm\\.convae_lstm\\lib\\site-packages (from stack-data->ipython>=7.23.1->ipykernel) (0.2.2)\n",
      "Requirement already satisfied: pyasn1<0.5.0,>=0.4.6 in c:\\users\\vaiv\\documents\\git\\convae_lstm\\.convae_lstm\\lib\\site-packages (from pyasn1-modules>=0.2.1->google-auth<3,>=1.6.3->tensorboard<2.11,>=2.10->tensorflow) (0.4.8)\n",
      "Requirement already satisfied: oauthlib>=3.0.0 in c:\\users\\vaiv\\documents\\git\\convae_lstm\\.convae_lstm\\lib\\site-packages (from requests-oauthlib>=0.7.0->google-auth-oauthlib<0.5,>=0.4.1->tensorboard<2.11,>=2.10->tensorflow) (3.2.1)\n",
      "Requirement already satisfied: pywinpty>=1.1.0 in c:\\users\\vaiv\\documents\\git\\convae_lstm\\.convae_lstm\\lib\\site-packages (from terminado>=0.8.3->notebook->jupyter->hyperas) (2.0.8)\n",
      "Requirement already satisfied: argon2-cffi-bindings in c:\\users\\vaiv\\documents\\git\\convae_lstm\\.convae_lstm\\lib\\site-packages (from argon2-cffi->notebook->jupyter->hyperas) (21.2.0)\n",
      "Requirement already satisfied: cffi>=1.0.1 in c:\\users\\vaiv\\documents\\git\\convae_lstm\\.convae_lstm\\lib\\site-packages (from argon2-cffi-bindings->argon2-cffi->notebook->jupyter->hyperas) (1.15.1)\n",
      "Requirement already satisfied: pycparser in c:\\users\\vaiv\\documents\\git\\convae_lstm\\.convae_lstm\\lib\\site-packages (from cffi>=1.0.1->argon2-cffi-bindings->argon2-cffi->notebook->jupyter->hyperas) (2.21)\n"
     ]
    }
   ],
   "source": [
    "# Install Dependencies\n",
    "!pip install pandas numpy matplotlib seaborn scikit-learn tensorflow keras hyperopt hyperas ipykernel"
   ]
  },
  {
   "cell_type": "code",
   "execution_count": 23,
   "id": "874d083d",
   "metadata": {},
   "outputs": [],
   "source": [
    "# import Dependencies\n",
    "import os\n",
    "import numpy as np\n",
    "import pandas as pd\n",
    "import matplotlib.pyplot as plt\n",
    "import seaborn as sns\n",
    "\n",
    "import warnings\n",
    "warnings.filterwarnings(\"ignore\")"
   ]
  },
  {
   "cell_type": "markdown",
   "id": "66e75546",
   "metadata": {},
   "source": [
    "### Extracting feature name "
   ]
  },
  {
   "cell_type": "code",
   "execution_count": 12,
   "id": "4864e43c",
   "metadata": {},
   "outputs": [
    {
     "name": "stdout",
     "output_type": "stream",
     "text": [
      "No of Features: 561\n"
     ]
    }
   ],
   "source": [
    "# get the features from the file features.txt\n",
    "data_path= os.path.join(os.getcwd(), 'datasets', 'UCI_HAR_Dataset', 'UCI_HAR_Dataset')\n",
    "\n",
    "# get the features from the file features.txt\n",
    "features = list()\n",
    "with open(os.path.join(data_path, 'features.txt')) as f:\n",
    "    features = [line.split()[1] for line in f.readlines()]\n",
    "print('No of Features: {}'.format(len(features)))        "
   ]
  },
  {
   "cell_type": "markdown",
   "id": "c338a240",
   "metadata": {},
   "source": [
    "### Obtain the train data"
   ]
  },
  {
   "cell_type": "code",
   "execution_count": 15,
   "id": "f7a704cd",
   "metadata": {},
   "outputs": [
    {
     "data": {
      "text/html": [
       "<div>\n",
       "<style scoped>\n",
       "    .dataframe tbody tr th:only-of-type {\n",
       "        vertical-align: middle;\n",
       "    }\n",
       "\n",
       "    .dataframe tbody tr th {\n",
       "        vertical-align: top;\n",
       "    }\n",
       "\n",
       "    .dataframe thead th {\n",
       "        text-align: right;\n",
       "    }\n",
       "</style>\n",
       "<table border=\"1\" class=\"dataframe\">\n",
       "  <thead>\n",
       "    <tr style=\"text-align: right;\">\n",
       "      <th></th>\n",
       "      <th>tBodyAcc-mean()-X</th>\n",
       "      <th>tBodyAcc-mean()-Y</th>\n",
       "      <th>tBodyAcc-mean()-Z</th>\n",
       "      <th>tBodyAcc-std()-X</th>\n",
       "      <th>tBodyAcc-std()-Y</th>\n",
       "      <th>tBodyAcc-std()-Z</th>\n",
       "      <th>tBodyAcc-mad()-X</th>\n",
       "      <th>tBodyAcc-mad()-Y</th>\n",
       "      <th>tBodyAcc-mad()-Z</th>\n",
       "      <th>tBodyAcc-max()-X</th>\n",
       "      <th>...</th>\n",
       "      <th>angle(tBodyAccMean,gravity)</th>\n",
       "      <th>angle(tBodyAccJerkMean),gravityMean)</th>\n",
       "      <th>angle(tBodyGyroMean,gravityMean)</th>\n",
       "      <th>angle(tBodyGyroJerkMean,gravityMean)</th>\n",
       "      <th>angle(X,gravityMean)</th>\n",
       "      <th>angle(Y,gravityMean)</th>\n",
       "      <th>angle(Z,gravityMean)</th>\n",
       "      <th>subject</th>\n",
       "      <th>Activity</th>\n",
       "      <th>ActivityName</th>\n",
       "    </tr>\n",
       "  </thead>\n",
       "  <tbody>\n",
       "    <tr>\n",
       "      <th>1552</th>\n",
       "      <td>0.278324</td>\n",
       "      <td>-0.017606</td>\n",
       "      <td>-0.100195</td>\n",
       "      <td>-0.22601</td>\n",
       "      <td>0.304974</td>\n",
       "      <td>0.169276</td>\n",
       "      <td>-0.21815</td>\n",
       "      <td>0.238542</td>\n",
       "      <td>0.117017</td>\n",
       "      <td>0.010742</td>\n",
       "      <td>...</td>\n",
       "      <td>-0.044582</td>\n",
       "      <td>-0.177588</td>\n",
       "      <td>0.176441</td>\n",
       "      <td>-0.931856</td>\n",
       "      <td>-0.844271</td>\n",
       "      <td>0.205654</td>\n",
       "      <td>0.011582</td>\n",
       "      <td>7</td>\n",
       "      <td>1</td>\n",
       "      <td>WALKING</td>\n",
       "    </tr>\n",
       "  </tbody>\n",
       "</table>\n",
       "<p>1 rows × 564 columns</p>\n",
       "</div>"
      ],
      "text/plain": [
       "      tBodyAcc-mean()-X  tBodyAcc-mean()-Y  tBodyAcc-mean()-Z  \\\n",
       "1552           0.278324          -0.017606          -0.100195   \n",
       "\n",
       "      tBodyAcc-std()-X  tBodyAcc-std()-Y  tBodyAcc-std()-Z  tBodyAcc-mad()-X  \\\n",
       "1552          -0.22601          0.304974          0.169276          -0.21815   \n",
       "\n",
       "      tBodyAcc-mad()-Y  tBodyAcc-mad()-Z  tBodyAcc-max()-X  ...  \\\n",
       "1552          0.238542          0.117017          0.010742  ...   \n",
       "\n",
       "      angle(tBodyAccMean,gravity)  angle(tBodyAccJerkMean),gravityMean)  \\\n",
       "1552                    -0.044582                             -0.177588   \n",
       "\n",
       "      angle(tBodyGyroMean,gravityMean)  angle(tBodyGyroJerkMean,gravityMean)  \\\n",
       "1552                          0.176441                             -0.931856   \n",
       "\n",
       "      angle(X,gravityMean)  angle(Y,gravityMean)  angle(Z,gravityMean)  \\\n",
       "1552             -0.844271              0.205654              0.011582   \n",
       "\n",
       "      subject  Activity  ActivityName  \n",
       "1552        7         1       WALKING  \n",
       "\n",
       "[1 rows x 564 columns]"
      ]
     },
     "execution_count": 15,
     "metadata": {},
     "output_type": "execute_result"
    }
   ],
   "source": [
    "# get the data from txt files to pandas dataframe\n",
    "X_train= pd.read_csv(os.path.join(data_path, 'train' , 'X_train.txt'), delim_whitespace=True, header=None) # delim_whitespace: 공백으로 구분 된 값으로 파일 읽기\n",
    "X_train.columns= features\n",
    "X_train['subject']= pd.read_csv(os.path.join(data_path, 'train', 'subject_train.txt'), header=None, squeeze=True) # add subject column to the dataframe\n",
    "\n",
    "y_train= pd.read_csv(os.path.join(data_path, 'train', 'y_train.txt'), names=['Activity'], squeeze=True) #squeeze: DataFrame을 단일 칼럼으로 반환\n",
    "y_train_labels= y_train.map({1: 'WALKING', \n",
    "                             2: 'WALKING_UPSTAIRS',\n",
    "                             3: 'WALKING_DOWNSTAIRS',\n",
    "                             4:'SITTING',\n",
    "                             5:'STANDING',\n",
    "                             6:'LAYING'})\n",
    "\n",
    "# put all columns in a single dataframe\n",
    "train= X_train\n",
    "train['Activity']= y_train\n",
    "train['ActivityName']= y_train_labels\n",
    "train.sample()"
   ]
  },
  {
   "cell_type": "markdown",
   "id": "dd7b4218",
   "metadata": {},
   "source": [
    "### Obtain the test data"
   ]
  },
  {
   "cell_type": "code",
   "execution_count": 17,
   "id": "7d265c96",
   "metadata": {},
   "outputs": [
    {
     "data": {
      "text/html": [
       "<div>\n",
       "<style scoped>\n",
       "    .dataframe tbody tr th:only-of-type {\n",
       "        vertical-align: middle;\n",
       "    }\n",
       "\n",
       "    .dataframe tbody tr th {\n",
       "        vertical-align: top;\n",
       "    }\n",
       "\n",
       "    .dataframe thead th {\n",
       "        text-align: right;\n",
       "    }\n",
       "</style>\n",
       "<table border=\"1\" class=\"dataframe\">\n",
       "  <thead>\n",
       "    <tr style=\"text-align: right;\">\n",
       "      <th></th>\n",
       "      <th>tBodyAcc-mean()-X</th>\n",
       "      <th>tBodyAcc-mean()-Y</th>\n",
       "      <th>tBodyAcc-mean()-Z</th>\n",
       "      <th>tBodyAcc-std()-X</th>\n",
       "      <th>tBodyAcc-std()-Y</th>\n",
       "      <th>tBodyAcc-std()-Z</th>\n",
       "      <th>tBodyAcc-mad()-X</th>\n",
       "      <th>tBodyAcc-mad()-Y</th>\n",
       "      <th>tBodyAcc-mad()-Z</th>\n",
       "      <th>tBodyAcc-max()-X</th>\n",
       "      <th>...</th>\n",
       "      <th>angle(tBodyAccMean,gravity)</th>\n",
       "      <th>angle(tBodyAccJerkMean),gravityMean)</th>\n",
       "      <th>angle(tBodyGyroMean,gravityMean)</th>\n",
       "      <th>angle(tBodyGyroJerkMean,gravityMean)</th>\n",
       "      <th>angle(X,gravityMean)</th>\n",
       "      <th>angle(Y,gravityMean)</th>\n",
       "      <th>angle(Z,gravityMean)</th>\n",
       "      <th>subject</th>\n",
       "      <th>Activity</th>\n",
       "      <th>ActivityName</th>\n",
       "    </tr>\n",
       "  </thead>\n",
       "  <tbody>\n",
       "    <tr>\n",
       "      <th>1213</th>\n",
       "      <td>0.294567</td>\n",
       "      <td>-0.017789</td>\n",
       "      <td>-0.113509</td>\n",
       "      <td>-0.980403</td>\n",
       "      <td>-0.979168</td>\n",
       "      <td>-0.974744</td>\n",
       "      <td>-0.981406</td>\n",
       "      <td>-0.980107</td>\n",
       "      <td>-0.981615</td>\n",
       "      <td>-0.922638</td>\n",
       "      <td>...</td>\n",
       "      <td>0.199578</td>\n",
       "      <td>0.361462</td>\n",
       "      <td>0.381229</td>\n",
       "      <td>-0.335586</td>\n",
       "      <td>0.62783</td>\n",
       "      <td>-0.695767</td>\n",
       "      <td>-0.302516</td>\n",
       "      <td>6</td>\n",
       "      <td>6</td>\n",
       "      <td>LAYING</td>\n",
       "    </tr>\n",
       "  </tbody>\n",
       "</table>\n",
       "<p>1 rows × 564 columns</p>\n",
       "</div>"
      ],
      "text/plain": [
       "      tBodyAcc-mean()-X  tBodyAcc-mean()-Y  tBodyAcc-mean()-Z  \\\n",
       "1213           0.294567          -0.017789          -0.113509   \n",
       "\n",
       "      tBodyAcc-std()-X  tBodyAcc-std()-Y  tBodyAcc-std()-Z  tBodyAcc-mad()-X  \\\n",
       "1213         -0.980403         -0.979168         -0.974744         -0.981406   \n",
       "\n",
       "      tBodyAcc-mad()-Y  tBodyAcc-mad()-Z  tBodyAcc-max()-X  ...  \\\n",
       "1213         -0.980107         -0.981615         -0.922638  ...   \n",
       "\n",
       "      angle(tBodyAccMean,gravity)  angle(tBodyAccJerkMean),gravityMean)  \\\n",
       "1213                     0.199578                              0.361462   \n",
       "\n",
       "      angle(tBodyGyroMean,gravityMean)  angle(tBodyGyroJerkMean,gravityMean)  \\\n",
       "1213                          0.381229                             -0.335586   \n",
       "\n",
       "      angle(X,gravityMean)  angle(Y,gravityMean)  angle(Z,gravityMean)  \\\n",
       "1213               0.62783             -0.695767             -0.302516   \n",
       "\n",
       "      subject  Activity  ActivityName  \n",
       "1213        6         6        LAYING  \n",
       "\n",
       "[1 rows x 564 columns]"
      ]
     },
     "execution_count": 17,
     "metadata": {},
     "output_type": "execute_result"
    }
   ],
   "source": [
    "X_test= pd.read_csv(os.path.join(data_path, 'test', 'X_test.txt'), delim_whitespace=True, header=None)\n",
    "X_test.columns= features\n",
    "X_test['subject']= pd.read_csv(os.path.join(data_path, 'test', 'subject_test.txt'), header=None, squeeze=True)\n",
    "y_test= pd.read_csv(os.path.join(data_path, 'test', 'y_test.txt'), names=['Activity'], squeeze=True)\n",
    "y_test_labels= y_test.map({1: 'WALKING', 2:'WALKING_UPSTAIRS',3:'WALKING_DOWNSTAIRS',\\\n",
    "                    4:'SITTING', 5:'STANDING',6:'LAYING'})\n",
    "\n",
    "# put all columns in a single dataframe\n",
    "test= X_test\n",
    "test['Activity']= y_test\n",
    "test['ActivityName']= y_test_labels\n",
    "train.sample()"
   ]
  },
  {
   "cell_type": "code",
   "execution_count": 18,
   "id": "49d0b352",
   "metadata": {},
   "outputs": [
    {
     "data": {
      "text/plain": [
       "Index(['tBodyAcc-mean()-X', 'tBodyAcc-mean()-Y', 'tBodyAcc-mean()-Z',\n",
       "       'tBodyAcc-std()-X', 'tBodyAcc-std()-Y', 'tBodyAcc-std()-Z',\n",
       "       'tBodyAcc-mad()-X', 'tBodyAcc-mad()-Y', 'tBodyAcc-mad()-Z',\n",
       "       'tBodyAcc-max()-X',\n",
       "       ...\n",
       "       'angle(tBodyAccMean,gravity)', 'angle(tBodyAccJerkMean),gravityMean)',\n",
       "       'angle(tBodyGyroMean,gravityMean)',\n",
       "       'angle(tBodyGyroJerkMean,gravityMean)', 'angle(X,gravityMean)',\n",
       "       'angle(Y,gravityMean)', 'angle(Z,gravityMean)', 'subject', 'Activity',\n",
       "       'ActivityName'],\n",
       "      dtype='object', length=564)"
      ]
     },
     "execution_count": 18,
     "metadata": {},
     "output_type": "execute_result"
    }
   ],
   "source": [
    "train.columns"
   ]
  },
  {
   "cell_type": "markdown",
   "id": "f064396a",
   "metadata": {},
   "source": [
    "## Data Cleaning\n",
    "### 1. check for Duplicates"
   ]
  },
  {
   "cell_type": "code",
   "execution_count": 19,
   "id": "bf1803e0",
   "metadata": {},
   "outputs": [
    {
     "name": "stdout",
     "output_type": "stream",
     "text": [
      "No of duplicates in train: 0\n",
      "No of duplicates in test : 0\n"
     ]
    }
   ],
   "source": [
    "print('No of duplicates in train: {}'.format(sum(train.duplicated())))\n",
    "print('No of duplicates in test : {}'.format(sum(test.duplicated())))"
   ]
  },
  {
   "cell_type": "markdown",
   "id": "c3aabdb8",
   "metadata": {},
   "source": [
    "### 2. Checking for missing values"
   ]
  },
  {
   "cell_type": "code",
   "execution_count": 20,
   "id": "b077d34e",
   "metadata": {},
   "outputs": [
    {
     "name": "stdout",
     "output_type": "stream",
     "text": [
      "We have 0 NaN/Null values in train\n",
      "We have 0 NaN/Null values in test\n"
     ]
    }
   ],
   "source": [
    "print('We have {} NaN/Null values in train'.format(train.isnull().values.sum()))\n",
    "print('We have {} NaN/Null values in test'.format(test.isnull().values.sum()))"
   ]
  },
  {
   "cell_type": "markdown",
   "id": "fa62b6d6",
   "metadata": {},
   "source": [
    "### 3. Checking for data imbalance"
   ]
  },
  {
   "cell_type": "code",
   "execution_count": 24,
   "id": "8da1b180",
   "metadata": {},
   "outputs": [
    {
     "data": {
      "image/png": "[encoded data removed]",
      "text/plain": [
       "<Figure size 1600x800 with 1 Axes>"
      ]
     },
     "metadata": {},
     "output_type": "display_data"
    }
   ],
   "source": [
    "sns.set_style('whitegrid')\n",
    "plt.figure(figsize=(16,8))\n",
    "plt.title('Data provided by each user', fontsize=20)\n",
    "sns.countplot(x='subject',hue='ActivityName', data = train)\n",
    "plt.show()"
   ]
  },
  {
   "cell_type": "code",
   "execution_count": 26,
   "id": "8aa83d36",
   "metadata": {},
   "outputs": [
    {
     "data": {
      "image/png": "[encoded data removed]",
      "text/plain": [
       "<Figure size 640x480 with 1 Axes>"
      ]
     },
     "metadata": {},
     "output_type": "display_data"
    }
   ],
   "source": [
    "plt.title('No of Datapoints per Activity', fontsize=15)\n",
    "sns.countplot(x= 'ActivityName', data= train)\n",
    "plt.xticks(rotation=90)\n",
    "plt.show()"
   ]
  },
  {
   "cell_type": "markdown",
   "id": "bf930ae0",
   "metadata": {},
   "source": [
    "### Observation\n",
    "Data is \"largely\" well balanced."
   ]
  },
  {
   "cell_type": "markdown",
   "id": "79089ce3",
   "metadata": {},
   "source": [
    "### 4. changing feature names"
   ]
  },
  {
   "cell_type": "code",
   "execution_count": 31,
   "id": "a6ba3b6a",
   "metadata": {},
   "outputs": [
    {
     "data": {
      "text/plain": [
       "Index(['tBodyAcc_mean_X', 'tBodyAcc_mean_Y', 'tBodyAcc_mean_Z',\n",
       "       'tBodyAcc_std_X', 'tBodyAcc_std_Y', 'tBodyAcc_std_Z', 'tBodyAcc_mad_X',\n",
       "       'tBodyAcc_mad_Y', 'tBodyAcc_mad_Z', 'tBodyAcc_max_X',\n",
       "       ...\n",
       "       'angletBodyAccMeangravity', 'angletBodyAccJerkMeangravityMean',\n",
       "       'angletBodyGyroMeangravityMean', 'angletBodyGyroJerkMeangravityMean',\n",
       "       'angleXgravityMean', 'angleYgravityMean', 'angleZgravityMean',\n",
       "       'subject', 'Activity', 'ActivityName'],\n",
       "      dtype='object', length=564)"
      ]
     },
     "execution_count": 31,
     "metadata": {},
     "output_type": "execute_result"
    }
   ],
   "source": [
    "# changing feature names\n",
    "columns= train.columns\n",
    "# Removing '()' from column names\n",
    "columns = columns.str.replace('[()]','').str.replace('[-]', '_').str.replace('[,]','')\n",
    "\n",
    "train.columns = columns\n",
    "test.columns = columns\n",
    "test.columns"
   ]
  },
  {
   "cell_type": "markdown",
   "id": "c5a3faf2",
   "metadata": {},
   "source": [
    "### 5. save the dataframe in a csv file"
   ]
  },
  {
   "cell_type": "code",
   "execution_count": 32,
   "id": "98d0fc95",
   "metadata": {},
   "outputs": [],
   "source": [
    "train.to_csv(os.path.join('src', 'data','train.csv'), index=False)\n",
    "test.to_csv(os.path.join('src', 'data','test.csv'), index=False)"
   ]
  }
 ],
 "metadata": {
  "kernelspec": {
   "display_name": "Python 3.9.12 ('.convAE_lstm': venv)",
   "language": "python",
   "name": "python3"
  },
  "language_info": {
   "codemirror_mode": {
    "name": "ipython",
    "version": 3
   },
   "file_extension": ".py",
   "mimetype": "text/x-python",
   "name": "python",
   "nbconvert_exporter": "python",
   "pygments_lexer": "ipython3",
   "version": "3.9.12"
  },
  "vscode": {
   "interpreter": {
    "hash": "103e2387bf87a8e6a44b6dc63630d0cae1cfc8c6fd4d27312babc36e9f3ae809"
   }
  }
 },
 "nbformat": 4,
 "nbformat_minor": 5
}
